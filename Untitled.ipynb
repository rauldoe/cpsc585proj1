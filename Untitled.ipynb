{
 "cells": [
  {
   "cell_type": "code",
   "execution_count": 1,
   "metadata": {},
   "outputs": [],
   "source": [
    "#!/usr/bin/env python3\n",
    "\n",
    "# Hebb Net example - Character recognition\n",
    "#\n",
    "# See Fausett, Example 2.8, pp. 55-56\n",
    "#"
   ]
  },
  {
   "cell_type": "code",
   "execution_count": 2,
   "metadata": {},
   "outputs": [],
   "source": [
    "referenceSet = {}\n",
    "NULL_ID = ' ' \n",
    "nnTrainResultSet = {}\n",
    "\n",
    "def addToReferenceSet(referenceSetItem, id, imageItem):\n",
    "    referenceItem = {\n",
    "        'image_id' : id, \n",
    "        'image' :  imageItem\n",
    "    }\n",
    "    referenceSetItem[id] = referenceItem\n",
    "\n",
    "def char2vec(char):\n",
    "    return [\n",
    "        -1 if pixel == '.' else 1\n",
    "        for line in char\n",
    "        for pixel in line\n",
    "    ]\n",
    "\n",
    "def dot(x, y):\n",
    "    return sum([x_i * y_i for x_i, y_i in zip(x, y)])\n",
    "\n",
    "def train(referenceSetItem, id):\n",
    "    \n",
    "    trainingSet = []\n",
    "    for key, value in referenceSetItem.items():\n",
    "        image = value['image']\n",
    "\n",
    "        index = -1\n",
    "        if (key == id):\n",
    "            index = +1\n",
    "        else:\n",
    "            index = -1\n",
    "        trainingSet.append([char2vec(image), index])\n",
    "\n",
    "    b = 0\n",
    "    w = [0] * len(trainingSet[0][0])\n",
    "\n",
    "    for x, y in trainingSet:\n",
    "        for i in range(len(w)):\n",
    "            w[i] = w[i] + x[i] * y\n",
    "            b = b + y\n",
    "    \n",
    "    return {'training_set': trainingSet, 'w': w, 'b': b}\n",
    "\n",
    "def thresholdFromReferenceSet(referenceSetItem, id, y):\n",
    "    referenceItem = referenceSetItem[id]\n",
    "\n",
    "    return referenceItem['image_id'] if y >= 0 else NULL_ID\n",
    "\n",
    "def trainAll(referenceSetItem, nnTrainResultSetItem):\n",
    "    for key in referenceSetItem.keys():\n",
    "        nnTrainResult = train(referenceSetItem, key)\n",
    "        nnTrainResultSetItem[key] = nnTrainResult\n",
    "\n",
    "def predict(referenceSetItem, nnTrainResultSetItem, itemToTest):\n",
    "    prediction = NULL_ID\n",
    "    current = NULL_ID\n",
    "    for _, nnTrainResult in nnTrainResultSetItem.items():\n",
    "        w = nnTrainResult['w']\n",
    "        b = nnTrainResult['b']\n",
    "        response = dot(w, itemToTest) + b\n",
    "        current = threshold(response)\n",
    "        if (current != NULL_ID):\n",
    "            prediction = current\n",
    "            break\n",
    "    \n",
    "    return prediction"
   ]
  },
  {
   "cell_type": "code",
   "execution_count": 3,
   "metadata": {},
   "outputs": [
    {
     "name": "stdout",
     "output_type": "stream",
     "text": [
      "Prediction: X, Label: X\n",
      "Prediction: O, Label: O\n"
     ]
    }
   ],
   "source": [
    "addToReferenceSet(referenceSet, 'X', \n",
    "[\n",
    "    '#...#',\n",
    "    '.#.#.',\n",
    "    '..#..',\n",
    "    '.#.#.',\n",
    "    '#...#',\n",
    "])\n",
    "\n",
    "addToReferenceSet(referenceSet, 'O',  \n",
    "[\n",
    "    '.###.',\n",
    "    '#...#',\n",
    "    '#...#',\n",
    "    '#...#',\n",
    "    '.###.',\n",
    "])\n",
    "\n",
    "# Hebb's code\n",
    "TRAINING_X = [\n",
    "    '#...#',\n",
    "    '.#.#.',\n",
    "    '..#..',\n",
    "    '.#.#.',\n",
    "    '#...#',\n",
    "]\n",
    "\n",
    "TRAINING_O = [\n",
    "    '.###.',\n",
    "    '#...#',\n",
    "    '#...#',\n",
    "    '#...#',\n",
    "    '.###.',\n",
    "]\n",
    "\n",
    "TRAINING_SET = [\n",
    "    [char2vec(TRAINING_X), +1],\n",
    "    [char2vec(TRAINING_O), -1]\n",
    "]\n",
    "\n",
    "b = 0\n",
    "w = [0] * len(TRAINING_SET[0][0])\n",
    "\n",
    "for x, y in TRAINING_SET:\n",
    "    for i in range(len(w)):\n",
    "        w[i] = w[i] + x[i] * y\n",
    "        b = b + y\n",
    "\n",
    "def threshold(y):\n",
    "    return 'X' if y >= 0 else 'O'\n",
    "\n",
    "\n",
    "for x, y in TRAINING_SET:\n",
    "    response = dot(w, x) + b\n",
    "    print(f'Prediction: {threshold(response)}, Label: {threshold(y)}')\n",
    "# Hebb's code\n"
   ]
  },
  {
   "cell_type": "code",
   "execution_count": 4,
   "metadata": {},
   "outputs": [],
   "source": [
    "trainAll(referenceSet, nnTrainResultSet)"
   ]
  },
  {
   "cell_type": "code",
   "execution_count": 5,
   "metadata": {},
   "outputs": [],
   "source": [
    "TEST_O = [\n",
    "    '..##.',\n",
    "    '.#..#',\n",
    "    '.#..#',\n",
    "    '.#..#',\n",
    "    '..##.',\n",
    "]\n",
    "\n",
    "TEST_X = [\n",
    "    '#....',\n",
    "    '.#.#.',\n",
    "    '..#..',\n",
    "    '.#.#.',\n",
    "    '....#',\n",
    "]\n",
    "\n",
    "TEST_SET = [\n",
    "    char2vec(TEST_O),\n",
    "    char2vec(TEST_X),\n",
    "]"
   ]
  },
  {
   "cell_type": "code",
   "execution_count": 6,
   "metadata": {},
   "outputs": [
    {
     "name": "stdout",
     "output_type": "stream",
     "text": [
      "Prediction: O\n",
      "Prediction: X\n"
     ]
    }
   ],
   "source": [
    "for x in TEST_SET:\n",
    "    response = dot(w, x) + b\n",
    "    print(f'Prediction: {threshold(response)}')"
   ]
  },
  {
   "cell_type": "code",
   "execution_count": 7,
   "metadata": {},
   "outputs": [
    {
     "name": "stdout",
     "output_type": "stream",
     "text": [
      "Prediction: O\n",
      "Prediction: X\n"
     ]
    }
   ],
   "source": [
    "for x in TEST_SET:\n",
    "    prediction = predict(referenceSet, nnTrainResultSet, x)\n",
    "    print(f'Prediction: {prediction}')"
   ]
  },
  {
   "cell_type": "code",
   "execution_count": null,
   "metadata": {},
   "outputs": [],
   "source": []
  }
 ],
 "metadata": {
  "kernelspec": {
   "display_name": "Python 3",
   "language": "python",
   "name": "python3"
  },
  "language_info": {
   "codemirror_mode": {
    "name": "ipython",
    "version": 3
   },
   "file_extension": ".py",
   "mimetype": "text/x-python",
   "name": "python",
   "nbconvert_exporter": "python",
   "pygments_lexer": "ipython3",
   "version": "3.7.4"
  }
 },
 "nbformat": 4,
 "nbformat_minor": 2
}
