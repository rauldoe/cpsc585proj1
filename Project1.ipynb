{
 "cells": [
  {
   "cell_type": "code",
   "execution_count": 2,
   "metadata": {},
   "outputs": [],
   "source": [
    "#!/usr/bin/env python3\n",
    "\n",
    "# Hebb Net example - Character recognition\n",
    "#\n",
    "# See Fausett, Example 2.8, pp. 55-56\n",
    "#\n"
   ]
  },
  {
   "cell_type": "code",
   "execution_count": 5,
   "metadata": {},
   "outputs": [],
   "source": [
    "trainItem = {\n",
    "    'id' : 'X', \n",
    "    'image' :  [\n",
    "        '#...#',\n",
    "        '.#.#.',\n",
    "        '..#..',\n",
    "        '.#.#.',\n",
    "        '#...#',\n",
    "]}"
   ]
  },
  {
   "cell_type": "code",
   "execution_count": 6,
   "metadata": {},
   "outputs": [
    {
     "name": "stdout",
     "output_type": "stream",
     "text": [
      "Prediction: X, Label: X\n",
      "Prediction: O, Label: O\n"
     ]
    }
   ],
   "source": [
    "TRAINING_X = [\n",
    "    '#...#',\n",
    "    '.#.#.',\n",
    "    '..#..',\n",
    "    '.#.#.',\n",
    "    '#...#',\n",
    "]\n",
    "\n",
    "TRAINING_O = [\n",
    "    '.###.',\n",
    "    '#...#',\n",
    "    '#...#',\n",
    "    '#...#',\n",
    "    '.###.',\n",
    "]\n",
    "\n",
    "TRAINING_O1 = [\n",
    "    '.####',\n",
    "    '#.###',\n",
    "    '#.###',\n",
    "    '#####',\n",
    "    '.###.',\n",
    "]\n",
    "\n",
    "\n",
    "def char2vec(char):\n",
    "    return [\n",
    "        -1 if pixel == '.' else 1\n",
    "        for line in char\n",
    "        for pixel in line\n",
    "    ]\n",
    "\n",
    "\n",
    "TRAINING_SET = [\n",
    "    [char2vec(TRAINING_X), +1],\n",
    "    [char2vec(TRAINING_O), -1]\n",
    "]\n",
    "\n",
    "b = 0\n",
    "w = [0] * len(TRAINING_SET[0][0])\n",
    "\n",
    "for x, y in TRAINING_SET:\n",
    "    for i in range(len(w)):\n",
    "        w[i] = w[i] + x[i] * y\n",
    "        b = b + y\n",
    "\n",
    "\n",
    "def dot(x, y):\n",
    "    return sum([x_i * y_i for x_i, y_i in zip(x, y)])\n",
    "\n",
    "\n",
    "def threshold(y):\n",
    "    return 'X' if y >= 0 else 'O'\n",
    "\n",
    "\n",
    "for x, y in TRAINING_SET:\n",
    "    response = dot(w, x) + b\n",
    "    print(f'Prediction: {threshold(response)}, Label: {threshold(y)}')\n",
    "\n",
    "TEST_O = [\n",
    "    '..##.',\n",
    "    '.#..#',\n",
    "    '.#..#',\n",
    "    '.#..#',\n",
    "    '..##.',\n",
    "]\n",
    "\n",
    "TEST_X = [\n",
    "    '#....',\n",
    "    '.#.#.',\n",
    "    '..#..',\n",
    "    '.#.#.',\n",
    "    '....#',\n",
    "]\n",
    "\n",
    "TEST_SET = [\n",
    "    char2vec(TEST_O),\n",
    "    char2vec(TEST_X),\n",
    "]"
   ]
  },
  {
   "cell_type": "code",
   "execution_count": 7,
   "metadata": {},
   "outputs": [
    {
     "name": "stdout",
     "output_type": "stream",
     "text": [
      "Prediction: O\n",
      "Prediction: X\n"
     ]
    }
   ],
   "source": [
    "for x in TEST_SET:\n",
    "    response = dot(w, x) + b\n",
    "    print(f'Prediction: {threshold(response)}')"
   ]
  },
  {
   "cell_type": "code",
   "execution_count": null,
   "metadata": {},
   "outputs": [],
   "source": []
  }
 ],
 "metadata": {
  "kernelspec": {
   "display_name": "Python 3",
   "language": "python",
   "name": "python3"
  },
  "language_info": {
   "codemirror_mode": {
    "name": "ipython",
    "version": 3
   },
   "file_extension": ".py",
   "mimetype": "text/x-python",
   "name": "python",
   "nbconvert_exporter": "python",
   "pygments_lexer": "ipython3",
   "version": "3.7.4"
  }
 },
 "nbformat": 4,
 "nbformat_minor": 2
}
